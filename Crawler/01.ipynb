{
 "cells": [
  {
   "cell_type": "code",
   "execution_count": 50,
   "metadata": {},
   "outputs": [],
   "source": [
    "# 時間\n",
    "import datetime\n",
    "# 以下為爬蟲用的套件\n",
    "import requests\n",
    "from bs4 import BeautifulSoup\n",
    "# 顯示用\n",
    "import pandas as pd\n",
    "import lxml"
   ]
  },
  {
   "cell_type": "code",
   "execution_count": 57,
   "metadata": {},
   "outputs": [
    {
     "output_type": "stream",
     "name": "stdout",
     "text": "抓取資料原始檔完成。\n"
    }
   ],
   "source": [
    "url = 'https://www.ptt.cc/bbs/MobileComm/index.html'\n",
    "r = requests.get(url)\n",
    "print('抓取資料原始檔完成。')"
   ]
  },
  {
   "cell_type": "code",
   "execution_count": 58,
   "metadata": {},
   "outputs": [
    {
     "output_type": "stream",
     "name": "stdout",
     "text": "<class 'bs4.BeautifulSoup'> \n\n\n<!DOCTYPE html>\n\n<html>\n<head>\n<meta charset=\"utf-8\"/>\n<meta content=\"width=device-width, initial-scale=1\" name=\"viewport\"/>\n<title>看板 MobileComm 文章列表 - 批踢踢實業坊</title>\n<link href=\"//images.ptt.cc/bbs/v2.27/bbs-common.css\" rel=\"stylesheet\" type=\"text/css\"/>\n<link href=\"//images.ptt.cc/bbs/v2.27/bbs-base.css\" media=\"screen\" rel=\"stylesheet\" type=\"text/css\"/>\n<link href=\"//images.ptt.cc/bbs/v2.27/bbs-custom.css\" rel=\"stylesheet\" type=\"text/css\"/>\n<link href=\"//images.ptt.cc/bbs/v2.27/pushstream.css\" media=\"screen\" rel=\"stylesheet\" type=\"text/css\"/>\n<link href=\"//images.ptt.cc/bbs/v2.27/bbs-print.css\" media=\"print\" rel=\"stylesheet\" type=\"text/css\"/>\n<script async=\"\" src=\"/cdn-cgi/bm/cv/1284585713/api.js\"></script></head>\n<body>\n<div id=\"topbar-container\">\n<div class=\"bbs-content\" id=\"topbar\">\n<a href=\"/bbs/\" id=\"logo\">批踢踢實業坊</a>\n<span>›</span>\n<a class=\"board\" href=\"/bbs/MobileComm/index.html\"><span class=\"board-label\">看板 </span>MobileComm</a>\n<a class=\"right small\" href=\"/about.html\">關於我們</a>\n<a class=\"right small\" href=\"/contact.html\">聯絡資訊</a>\n</div>\n</div>\n<div id=\"main-container\">\n<div id=\"action-bar-container\">\n<div class=\"action-bar\">\n<div class=\"btn-group btn-group-dir\">\n<a class=\"btn selected\" href=\"/bbs/MobileComm/index.html\">看板</a>\n<a class=\"btn\" href=\"/man/MobileComm/index.html\">精華區</a>\n</div>\n<div class=\"btn-group btn-group-paging\">\n<a class=\"btn wide\" href=\"/bbs/MobileComm/index1.html\">最舊</a>\n<a class=\"btn wide\" href=\"/bbs/MobileComm/index6504.html\">‹ 上頁</a>\n<a class=\"btn wide disabled\">下頁 ›</a>\n<a class=\"btn wide\" href=\"/bbs/MobileComm/index.html\">最新</a>\n</div>\n</div>\n</div>\n<div class=\"r-list-container action-bar-margin bbs-screen\">\n<div class=\"search-bar\">\n<form action=\"search\" id=\"search-bar\" type=\"get\">\n<input class=\"query\" name=\"q\" placeholder=\"搜尋文章⋯\" type=\"text\" value=\"\"/>\n</form>\n</div>\n<div class=\"r-ent\">\n<div class=\"nrec\"><span class=\"hl f2\">6</span></div>\n<div class=\"title\">\n<a href=\"/bbs/MobileComm/M.1592378444.A.0DA.html\">[新聞] 全球高端智慧手機Q1銷售額排名 蘋果居冠/</a>\n</div>\n<div class=\"meta\">\n<div class=\"author\">olmtw</div>\n<div class=\"article-menu\">\n<div class=\"trigger\">⋯</div>\n<div class=\"dropdown\">\n<div class=\"item\"><a href=\"/bbs/MobileComm/search?q=thread%3A%5B%E6%96%B0%E8%81%9E%5D+%E5%85%A8%E7%90%83%E9%AB%98%E7%AB%AF%E6%99%BA%E6%85%A7%E6%89%8B%E6%A9%9FQ1%E9%8A%B7%E5%94%AE%E9%A1%8D%E6%8E%92%E5%90%8D+%E8%98%8B%E6%9E%9C%E5%B1%85%E5%86%A0%2F\">搜尋同標題文章</a></div>\n<div class=\"item\"><a href=\"/bbs/MobileComm/search?q=author%3Aolmtw\">搜尋看板內 olmtw 的文章</a></div>\n</div>\n</div>\n<div class=\"date\"> 6/17</div>\n<div class=\"mark\"></div>\n</div>\n</div>\n<div class=\"r-ent\">\n<div class=\"nrec\"><span class=\"hl f2\">9</span></div>\n<div class=\"title\">\n<a href=\"/bbs/MobileComm/M.1592378542.A.27F.html\">[新聞] 挑戰「六鏡頭」！三星手機新專利打破鏡頭</a>\n</div>\n<div class=\"meta\">\n<div class=\"author\">olmtw</div>\n<div class=\"article-menu\">\n<div class=\"trigger\">⋯</div>\n<div class=\"dropdown\">\n<div class=\"item\"><a href=\"/bbs/MobileComm/search?q=thread%3A%5B%E6%96%B0%E8%81%9E%5D+%E6%8C%91%E6%88%B0%E3%80%8C%E5%85%AD%E9%8F%A1%E9%A0%AD%E3%80%8D%EF%BC%81%E4%B8%89%E6%98%9F%E6%89%8B%E6%A9%9F%E6%96%B0%E5%B0%88%E5%88%A9%E6%89%93%E7%A0%B4%E9%8F%A1%E9%A0%AD\">搜尋同標題文章</a></div>\n<div class=\"item\"><a href=\"/bbs/MobileComm/search?q=author%3Aolmtw\">搜尋看板內 olmtw 的文章</a></div>\n</div>\n</div>\n<div class=\"date\"> 6/17</div>\n<div class=\"mark\"></div>\n</div>\n</div>\n<div class=\"r-list-sep\"></div>\n<div class=\"r-ent\">\n<div class=\"nrec\"><span class=\"hl f3\">66</span></div>\n<div class=\"title\">\n<a href=\"/bbs/MobileComm/M.1584354130.A.BB9.html\">[閒聊] 置底閒聊區</a>\n</div>\n<div class=\"meta\">\n<div class=\"author\">RG5678</div>\n<div class=\"article-menu\">\n<div class=\"trigger\">⋯</div>\n<div class=\"dropdown\">\n<div class=\"item\"><a href=\"/bbs/MobileComm/search?q=thread%3A%5B%E9%96%92%E8%81%8A%5D+%E7%BD%AE%E5%BA%95%E9%96%92%E8%81%8A%E5%8D%80\">搜尋同標題文章</a></div>\n<div class=\"item\"><a href=\"/bbs/MobileComm/search?q=author%3ARG5678\">搜尋看板內 RG5678 的文章</a></div>\n</div>\n</div>\n<div class=\"date\"> 3/16</div>\n<div class=\"mark\">M</div>\n</div>\n</div>\n<div class=\"r-ent\">\n<div class=\"nrec\"><span class=\"hl f2\">3</span></div>\n<div class=\"title\">\n<a href=\"/bbs/MobileComm/M.1591365061.A.3C9.html\">[公告] 板規更新20200605</a>\n</div>\n<div class=\"meta\">\n<div class=\"author\">RG5678</div>\n<div class=\"article-menu\">\n<div class=\"trigger\">⋯</div>\n<div class=\"dropdown\">\n<div class=\"item\"><a href=\"/bbs/MobileComm/search?q=thread%3A%5B%E5%85%AC%E5%91%8A%5D+%E6%9D%BF%E8%A6%8F%E6%9B%B4%E6%96%B020200605\">搜尋同標題文章</a></div>\n<div class=\"item\"><a href=\"/bbs/MobileComm/search?q=author%3ARG5678\">搜尋看板內 RG5678 的文章</a></div>\n</div>\n</div>\n<div class=\"date\"> 6/05</div>\n<div class=\"mark\">M</div>\n</div>\n</div>\n<div class=\"r-ent\">\n<div class=\"nrec\"></div>\n<div class=\"title\">\n<a href=\"/bbs/MobileComm/M.1591369281.A.9AD.html\">[公告] MobileComm板規 20200605版</a>\n</div>\n<div class=\"meta\">\n<div class=\"author\">RG5678</div>\n<div class=\"article-menu\">\n<div class=\"trigger\">⋯</div>\n<div class=\"dropdown\">\n<div class=\"item\"><a href=\"/bbs/MobileComm/search?q=thread%3A%5B%E5%85%AC%E5%91%8A%5D+MobileComm%E6%9D%BF%E8%A6%8F+20200605%E7%89%88\">搜尋同標題文章</a></div>\n<div class=\"item\"><a href=\"/bbs/MobileComm/search?q=author%3ARG5678\">搜尋看板內 RG5678 的文章</a></div>\n</div>\n</div>\n<div class=\"date\"> 6/05</div>\n<div class=\"mark\">!</div>\n</div>\n</div>\n<div class=\"r-ent\">\n<div class=\"nrec\"><span class=\"hl f2\">1</span></div>\n<div class=\"title\">\n<a href=\"/bbs/MobileComm/M.1592139347.A.DEE.html\">Fw: [公告] 6/22 停機公告</a>\n</div>\n<div class=\"meta\">\n<div class=\"author\">RG5678</div>\n<div class=\"article-menu\">\n<div class=\"trigger\">⋯</div>\n<div class=\"dropdown\">\n<div class=\"item\"><a href=\"/bbs/MobileComm/search?q=thread%3A%5B%E5%85%AC%E5%91%8A%5D+6%2F22+%E5%81%9C%E6%A9%9F%E5%85%AC%E5%91%8A\">搜尋同標題文章</a></div>\n<div class=\"item\"><a href=\"/bbs/MobileComm/search?q=author%3ARG5678\">搜尋看板內 RG5678 的文章</a></div>\n</div>\n</div>\n<div class=\"date\"> 6/14</div>\n<div class=\"mark\">M</div>\n</div>\n</div>\n</div>\n</div>\n<script>\n  (function(i,s,o,g,r,a,m){i['GoogleAnalyticsObject']=r;i[r]=i[r]||function(){\n  (i[r].q=i[r].q||[]).push(arguments)},i[r].l=1*new Date();a=s.createElement(o),\n  m=s.getElementsByTagName(o)[0];a.async=1;a.src=g;m.parentNode.insertBefore(a,m)\n  })(window,document,'script','https://www.google-analytics.com/analytics.js','ga');\n\n  ga('create', 'UA-32365737-1', {\n    cookieDomain: 'ptt.cc',\n    legacyCookieDomain: 'ptt.cc'\n  });\n  ga('send', 'pageview');\n</script>\n<script src=\"//ajax.googleapis.com/ajax/libs/jquery/2.1.1/jquery.min.js\"></script>\n<script src=\"//images.ptt.cc/bbs/v2.27/bbs.js\"></script>\n<script type=\"text/javascript\">(function(){window['__CF$cv$params']={r:'5a4b5eb16b6d459a',m:'3221264ddd4632b1f697aecf19823ee5b89cc320-1592382221-1800-AcOvkjvo8c0a2pzPImvwX+hdJrRfF70zc0M9BKzvVcFskZn5ba/bQjf8pgNDeatFHgJkB5Rvsq1fhrLChyyDF34d6PDPk6WCXySbDcaKkt4w2/6iVCzPsA7Y11VJbi9IpVYHgQFNKzQ9CDFx4rqkf4k=',s:[0x51a8b332e6,0xeb16087225],}})();</script></body>\n</html>\n\n"
    }
   ],
   "source": [
    "data = BeautifulSoup(r.text)\n",
    "print(type(data) , '\\n\\n')\n",
    "print(data)"
   ]
  },
  {
   "cell_type": "code",
   "execution_count": 60,
   "metadata": {},
   "outputs": [
    {
     "output_type": "stream",
     "name": "stdout",
     "text": "<!DOCTYPE html>\n\n<html>\n<head>\n<meta charset=\"utf-8\"/>\n<meta content=\"width=device-width, initial-scale=1\" name=\"viewport\"/>\n<title>看板 MobileComm 文章列表 - 批踢踢實業坊</title>\n<link href=\"//images.ptt.cc/bbs/v2.27/bbs-common.css\" rel=\"stylesheet\" type=\"text/css\"/>\n<link href=\"//images.ptt.cc/bbs/v2.27/bbs-base.css\" media=\"screen\" rel=\"stylesheet\" type=\"text/css\"/>\n<link href=\"//images.ptt.cc/bbs/v2.27/bbs-custom.css\" rel=\"stylesheet\" type=\"text/css\"/>\n<link href=\"//images.ptt.cc/bbs/v2.27/pushstream.css\" media=\"screen\" rel=\"stylesheet\" type=\"text/css\"/>\n<link href=\"//images.ptt.cc/bbs/v2.27/bbs-print.css\" media=\"print\" rel=\"stylesheet\" type=\"text/css\"/>\n<script async=\"\" src=\"/cdn-cgi/bm/cv/1284585713/api.js\"></script></head>\n<body>\n<div id=\"topbar-container\">\n<div class=\"bbs-content\" id=\"topbar\">\n<a href=\"/bbs/\" id=\"logo\">批踢踢實業坊</a>\n<span>›</span>\n<a class=\"board\" href=\"/bbs/MobileComm/index.html\"><span class=\"board-label\">看板 </span>MobileComm</a>\n<a class=\"right small\" href=\"/about.html\">關於我們</a>\n<a class=\"right small\" href=\"/contact.html\">聯絡資訊</a>\n</div>\n</div>\n<div id=\"main-container\">\n<div id=\"action-bar-container\">\n<div class=\"action-bar\">\n<div class=\"btn-group btn-group-dir\">\n<a class=\"btn selected\" href=\"/bbs/MobileComm/index.html\">看板</a>\n<a class=\"btn\" href=\"/man/MobileComm/index.html\">精華區</a>\n</div>\n<div class=\"btn-group btn-group-paging\">\n<a class=\"btn wide\" href=\"/bbs/MobileComm/index1.html\">最舊</a>\n<a class=\"btn wide\" href=\"/bbs/MobileComm/index6504.html\">‹ 上頁</a>\n<a class=\"btn wide disabled\">下頁 ›</a>\n<a class=\"btn wide\" href=\"/bbs/MobileComm/index.html\">最新</a>\n</div>\n</div>\n</div>\n<div class=\"r-list-container action-bar-margin bbs-screen\">\n<div class=\"search-bar\">\n<form action=\"search\" id=\"search-bar\" type=\"get\">\n<input class=\"query\" name=\"q\" placeholder=\"搜尋文章⋯\" type=\"text\" value=\"\"/>\n</form>\n</div>\n<div class=\"r-ent\">\n<div class=\"nrec\"><span class=\"hl f2\">6</span></div>\n<div class=\"title\">\n<a href=\"/bbs/MobileComm/M.1592378444.A.0DA.html\">[新聞] 全球高端智慧手機Q1銷售額排名 蘋果居冠/</a>\n</div>\n<div class=\"meta\">\n<div class=\"author\">olmtw</div>\n<div class=\"article-menu\">\n<div class=\"trigger\">⋯</div>\n<div class=\"dropdown\">\n<div class=\"item\"><a href=\"/bbs/MobileComm/search?q=thread%3A%5B%E6%96%B0%E8%81%9E%5D+%E5%85%A8%E7%90%83%E9%AB%98%E7%AB%AF%E6%99%BA%E6%85%A7%E6%89%8B%E6%A9%9FQ1%E9%8A%B7%E5%94%AE%E9%A1%8D%E6%8E%92%E5%90%8D+%E8%98%8B%E6%9E%9C%E5%B1%85%E5%86%A0%2F\">搜尋同標題文章</a></div>\n<div class=\"item\"><a href=\"/bbs/MobileComm/search?q=author%3Aolmtw\">搜尋看板內 olmtw 的文章</a></div>\n</div>\n</div>\n<div class=\"date\"> 6/17</div>\n<div class=\"mark\"></div>\n</div>\n</div>\n<div class=\"r-ent\">\n<div class=\"nrec\"><span class=\"hl f2\">9</span></div>\n<div class=\"title\">\n<a href=\"/bbs/MobileComm/M.1592378542.A.27F.html\">[新聞] 挑戰「六鏡頭」！三星手機新專利打破鏡頭</a>\n</div>\n<div class=\"meta\">\n<div class=\"author\">olmtw</div>\n<div class=\"article-menu\">\n<div class=\"trigger\">⋯</div>\n<div class=\"dropdown\">\n<div class=\"item\"><a href=\"/bbs/MobileComm/search?q=thread%3A%5B%E6%96%B0%E8%81%9E%5D+%E6%8C%91%E6%88%B0%E3%80%8C%E5%85%AD%E9%8F%A1%E9%A0%AD%E3%80%8D%EF%BC%81%E4%B8%89%E6%98%9F%E6%89%8B%E6%A9%9F%E6%96%B0%E5%B0%88%E5%88%A9%E6%89%93%E7%A0%B4%E9%8F%A1%E9%A0%AD\">搜尋同標題文章</a></div>\n<div class=\"item\"><a href=\"/bbs/MobileComm/search?q=author%3Aolmtw\">搜尋看板內 olmtw 的文章</a></div>\n</div>\n</div>\n<div class=\"date\"> 6/17</div>\n<div class=\"mark\"></div>\n</div>\n</div>\n<div class=\"r-list-sep\"></div>\n<div class=\"r-ent\">\n<div class=\"nrec\"><span class=\"hl f3\">66</span></div>\n<div class=\"title\">\n<a href=\"/bbs/MobileComm/M.1584354130.A.BB9.html\">[閒聊] 置底閒聊區</a>\n</div>\n<div class=\"meta\">\n<div class=\"author\">RG5678</div>\n<div class=\"article-menu\">\n<div class=\"trigger\">⋯</div>\n<div class=\"dropdown\">\n<div class=\"item\"><a href=\"/bbs/MobileComm/search?q=thread%3A%5B%E9%96%92%E8%81%8A%5D+%E7%BD%AE%E5%BA%95%E9%96%92%E8%81%8A%E5%8D%80\">搜尋同標題文章</a></div>\n<div class=\"item\"><a href=\"/bbs/MobileComm/search?q=author%3ARG5678\">搜尋看板內 RG5678 的文章</a></div>\n</div>\n</div>\n<div class=\"date\"> 3/16</div>\n<div class=\"mark\">M</div>\n</div>\n</div>\n<div class=\"r-ent\">\n<div class=\"nrec\"><span class=\"hl f2\">3</span></div>\n<div class=\"title\">\n<a href=\"/bbs/MobileComm/M.1591365061.A.3C9.html\">[公告] 板規更新20200605</a>\n</div>\n<div class=\"meta\">\n<div class=\"author\">RG5678</div>\n<div class=\"article-menu\">\n<div class=\"trigger\">⋯</div>\n<div class=\"dropdown\">\n<div class=\"item\"><a href=\"/bbs/MobileComm/search?q=thread%3A%5B%E5%85%AC%E5%91%8A%5D+%E6%9D%BF%E8%A6%8F%E6%9B%B4%E6%96%B020200605\">搜尋同標題文章</a></div>\n<div class=\"item\"><a href=\"/bbs/MobileComm/search?q=author%3ARG5678\">搜尋看板內 RG5678 的文章</a></div>\n</div>\n</div>\n<div class=\"date\"> 6/05</div>\n<div class=\"mark\">M</div>\n</div>\n</div>\n<div class=\"r-ent\">\n<div class=\"nrec\"></div>\n<div class=\"title\">\n<a href=\"/bbs/MobileComm/M.1591369281.A.9AD.html\">[公告] MobileComm板規 20200605版</a>\n</div>\n<div class=\"meta\">\n<div class=\"author\">RG5678</div>\n<div class=\"article-menu\">\n<div class=\"trigger\">⋯</div>\n<div class=\"dropdown\">\n<div class=\"item\"><a href=\"/bbs/MobileComm/search?q=thread%3A%5B%E5%85%AC%E5%91%8A%5D+MobileComm%E6%9D%BF%E8%A6%8F+20200605%E7%89%88\">搜尋同標題文章</a></div>\n<div class=\"item\"><a href=\"/bbs/MobileComm/search?q=author%3ARG5678\">搜尋看板內 RG5678 的文章</a></div>\n</div>\n</div>\n<div class=\"date\"> 6/05</div>\n<div class=\"mark\">!</div>\n</div>\n</div>\n<div class=\"r-ent\">\n<div class=\"nrec\"><span class=\"hl f2\">1</span></div>\n<div class=\"title\">\n<a href=\"/bbs/MobileComm/M.1592139347.A.DEE.html\">Fw: [公告] 6/22 停機公告</a>\n</div>\n<div class=\"meta\">\n<div class=\"author\">RG5678</div>\n<div class=\"article-menu\">\n<div class=\"trigger\">⋯</div>\n<div class=\"dropdown\">\n<div class=\"item\"><a href=\"/bbs/MobileComm/search?q=thread%3A%5B%E5%85%AC%E5%91%8A%5D+6%2F22+%E5%81%9C%E6%A9%9F%E5%85%AC%E5%91%8A\">搜尋同標題文章</a></div>\n<div class=\"item\"><a href=\"/bbs/MobileComm/search?q=author%3ARG5678\">搜尋看板內 RG5678 的文章</a></div>\n</div>\n</div>\n<div class=\"date\"> 6/14</div>\n<div class=\"mark\">M</div>\n</div>\n</div>\n</div>\n</div>\n<script>\n  (function(i,s,o,g,r,a,m){i['GoogleAnalyticsObject']=r;i[r]=i[r]||function(){\n  (i[r].q=i[r].q||[]).push(arguments)},i[r].l=1*new Date();a=s.createElement(o),\n  m=s.getElementsByTagName(o)[0];a.async=1;a.src=g;m.parentNode.insertBefore(a,m)\n  })(window,document,'script','https://www.google-analytics.com/analytics.js','ga');\n\n  ga('create', 'UA-32365737-1', {\n    cookieDomain: 'ptt.cc',\n    legacyCookieDomain: 'ptt.cc'\n  });\n  ga('send', 'pageview');\n</script>\n<script src=\"//ajax.googleapis.com/ajax/libs/jquery/2.1.1/jquery.min.js\"></script>\n<script src=\"//images.ptt.cc/bbs/v2.27/bbs.js\"></script>\n<script type=\"text/javascript\">(function(){window['__CF$cv$params']={r:'5a4b5eb16b6d459a',m:'3221264ddd4632b1f697aecf19823ee5b89cc320-1592382221-1800-AcOvkjvo8c0a2pzPImvwX+hdJrRfF70zc0M9BKzvVcFskZn5ba/bQjf8pgNDeatFHgJkB5Rvsq1fhrLChyyDF34d6PDPk6WCXySbDcaKkt4w2/6iVCzPsA7Y11VJbi9IpVYHgQFNKzQ9CDFx4rqkf4k=',s:[0x51a8b332e6,0xeb16087225],}})();</script></body>\n</html>\n\n"
    }
   ],
   "source": [
    "soup = BeautifulSoup(r.text,\"html.parser\") \n",
    "#parser 語法分析，這時 html 會被整理\n",
    "print(soup)"
   ]
  },
  {
   "cell_type": "code",
   "execution_count": 62,
   "metadata": {},
   "outputs": [
    {
     "output_type": "stream",
     "name": "stdout",
     "text": "[<a href=\"/bbs/MobileComm/M.1592378444.A.0DA.html\">[新聞] 全球高端智慧手機Q1銷售額排名 蘋果居冠/</a>, <a href=\"/bbs/MobileComm/M.1592378542.A.27F.html\">[新聞] 挑戰「六鏡頭」！三星手機新專利打破鏡頭</a>, <a href=\"/bbs/MobileComm/M.1584354130.A.BB9.html\">[閒聊] 置底閒聊區</a>, <a href=\"/bbs/MobileComm/M.1591365061.A.3C9.html\">[公告] 板規更新20200605</a>, <a href=\"/bbs/MobileComm/M.1591369281.A.9AD.html\">[公告] MobileComm板規 20200605版</a>, <a href=\"/bbs/MobileComm/M.1592139347.A.DEE.html\">Fw: [公告] 6/22 停機公告</a>]\n"
    }
   ],
   "source": [
    "title = soup.select(\"div.title a\")\n",
    "#將文章的標題取下來\n",
    "print(title)"
   ]
  },
  {
   "cell_type": "code",
   "execution_count": 65,
   "metadata": {},
   "outputs": [
    {
     "output_type": "stream",
     "name": "stdout",
     "text": "[新聞] 全球高端智慧手機Q1銷售額排名 蘋果居冠/\n[新聞] 挑戰「六鏡頭」！三星手機新專利打破鏡頭\n[閒聊] 置底閒聊區\n[公告] 板規更新20200605\n[公告] MobileComm板規 20200605版\nFw: [公告] 6/22 停機公告\n"
    }
   ],
   "source": [
    "# 印出所有 title\n",
    "for i in title:\n",
    "    print(i.text)"
   ]
  }
 ],
 "metadata": {
  "kernelspec": {
   "display_name": "Python 3.7.6 64-bit",
   "language": "python",
   "name": "python37664bit1bb8c9fa1076404f8f940a4ac4ad5317"
  },
  "language_info": {
   "codemirror_mode": {
    "name": "ipython",
    "version": 3
   },
   "file_extension": ".py",
   "mimetype": "text/x-python",
   "name": "python",
   "nbconvert_exporter": "python",
   "pygments_lexer": "ipython3",
   "version": "3.7.6-final"
  }
 },
 "nbformat": 4,
 "nbformat_minor": 4
}